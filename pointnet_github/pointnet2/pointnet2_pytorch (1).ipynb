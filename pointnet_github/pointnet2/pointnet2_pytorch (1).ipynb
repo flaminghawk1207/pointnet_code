{
  "nbformat": 4,
  "nbformat_minor": 0,
  "metadata": {
    "colab": {
      "provenance": []
    },
    "kernelspec": {
      "name": "python3",
      "display_name": "Python 3"
    },
    "language_info": {
      "name": "python"
    }
  },
  "cells": [
    {
      "cell_type": "code",
      "execution_count": null,
      "metadata": {
        "id": "aGqO4nQDVa3T"
      },
      "outputs": [],
      "source": [
        "import os\n",
        "import glob\n",
        "import numpy as np\n",
        "import tensorflow as tf\n",
        "from tensorflow import keras\n",
        "from tensorflow.keras import layers\n",
        "from matplotlib import pyplot as plt\n",
        "tf.random.set_seed(1234)\n",
        "from sklearn.model_selection import train_test_split"
      ]
    },
    {
      "cell_type": "code",
      "source": [
        "import pandas as pd"
      ],
      "metadata": {
        "id": "9bVOk-HHaeYx"
      },
      "execution_count": null,
      "outputs": []
    },
    {
      "cell_type": "code",
      "source": [
        "import glob\n",
        "\n",
        "folder_path = \"/content/drive/MyDrive/data/falling\"  # Replace with the actual path to your folder\n",
        "\n",
        "# Use glob to get a list of all files in the folder\n",
        "files = glob.glob(folder_path + \"/*\")\n",
        "\n",
        "# Now, the 'files' variable contains a list of file paths in the specified folder\n",
        "print(files)\n"
      ],
      "metadata": {
        "colab": {
          "base_uri": "https://localhost:8080/"
        },
        "id": "vEQZjKxQagJ9",
        "outputId": "bbb0809e-066d-4dcb-f223-1204dd0dea3a"
      },
      "execution_count": null,
      "outputs": [
        {
          "output_type": "stream",
          "name": "stdout",
          "text": [
            "['/content/drive/MyDrive/data/falling/falling14.csv', '/content/drive/MyDrive/data/falling/falling5.csv', '/content/drive/MyDrive/data/falling/falling1.csv', '/content/drive/MyDrive/data/falling/falling9.csv', '/content/drive/MyDrive/data/falling/falling10.csv', '/content/drive/MyDrive/data/falling/falling27.csv', '/content/drive/MyDrive/data/falling/falling23.csv', '/content/drive/MyDrive/data/falling/falling17.csv', '/content/drive/MyDrive/data/falling/falling22.csv', '/content/drive/MyDrive/data/falling/falling16.csv', '/content/drive/MyDrive/data/falling/falling26.csv', '/content/drive/MyDrive/data/falling/falling25.csv', '/content/drive/MyDrive/data/falling/falling18.csv', '/content/drive/MyDrive/data/falling/falling15.csv', '/content/drive/MyDrive/data/falling/falling12.csv', '/content/drive/MyDrive/data/falling/falling20.csv', '/content/drive/MyDrive/data/falling/falling19.csv', '/content/drive/MyDrive/data/falling/falling28.csv', '/content/drive/MyDrive/data/falling/falling21.csv', '/content/drive/MyDrive/data/falling/falling11.csv', '/content/drive/MyDrive/data/falling/falling24.csv', '/content/drive/MyDrive/data/falling/falling8.csv', '/content/drive/MyDrive/data/falling/falling13.csv', '/content/drive/MyDrive/data/falling/falling6.csv', '/content/drive/MyDrive/data/falling/falling7.csv', '/content/drive/MyDrive/data/falling/falling3.csv', '/content/drive/MyDrive/data/falling/falling2.csv', '/content/drive/MyDrive/data/falling/falling4.csv']\n"
          ]
        }
      ]
    },
    {
      "cell_type": "code",
      "source": [
        "def parse_dataset(num_points=400):\n",
        "\n",
        "    train_points = []\n",
        "    train_labels = []\n",
        "    class_map = {}\n",
        "    folder_path = \"/content/drive/MyDrive/data\"\n",
        "    folders = glob.glob(folder_path + \"/*\")\n",
        "\n",
        "    for i, folder in enumerate(folders):\n",
        "        print(\"processing class: {}\".format(os.path.basename(folder)))\n",
        "        # store folder name with ID so we can retrieve later\n",
        "        class_map[i] = folder.split(\"/\")[-1]\n",
        "        # gather all files\n",
        "\n",
        "        train_files = glob.glob(os.path.join(folder_path,folder)+\"/*\")\n",
        "\n",
        "        for f in train_files:\n",
        "\n",
        "\n",
        "            # Use the random indices to select 200 random rows from the original array\n",
        "            train_points.append(pd.read_csv(f).set_index('Unnamed: 0').sample(num_points).values)\n",
        "            train_labels.append(i)\n",
        "\n",
        "    return (\n",
        "        np.array(train_points),\n",
        "        np.array(train_labels),\n",
        "        class_map,\n",
        "    )"
      ],
      "metadata": {
        "id": "DMuIfLR5alTt"
      },
      "execution_count": null,
      "outputs": []
    },
    {
      "cell_type": "code",
      "source": [
        "NUM_POINTS = 150\n",
        "NUM_CLASSES = 4\n",
        "BATCH_SIZE = 1\n",
        "train_points,train_labels,class_map = parse_dataset(NUM_POINTS)\n",
        "data_train, data_val, labels_train, labels_val = train_test_split(train_points, train_labels, test_size=0.2, random_state=42)"
      ],
      "metadata": {
        "colab": {
          "base_uri": "https://localhost:8080/"
        },
        "id": "A5K42y9fawAC",
        "outputId": "580f4f36-2590-4ec7-9769-ddaf4c6be3cc"
      },
      "execution_count": null,
      "outputs": [
        {
          "output_type": "stream",
          "name": "stdout",
          "text": [
            "processing class: falling\n",
            "processing class: lying_down\n",
            "processing class: sitting\n",
            "processing class: standing\n"
          ]
        }
      ]
    },
    {
      "cell_type": "code",
      "source": [
        "import sys\n",
        "sys.path.append('/content/drive/MyDrive/data')\n"
      ],
      "metadata": {
        "id": "gL-53TQeayAO"
      },
      "execution_count": null,
      "outputs": []
    },
    {
      "cell_type": "code",
      "source": [
        "import torch.nn as nn\n",
        "import torch.nn.functional as F\n"
      ],
      "metadata": {
        "id": "RrYPFgy4bAma"
      },
      "execution_count": null,
      "outputs": []
    },
    {
      "cell_type": "code",
      "source": [
        "import torch\n",
        "\n",
        "from time import time\n",
        "import numpy as np\n",
        "\n",
        "def timeit(tag, t):\n",
        "    print(\"{}: {}s\".format(tag, time() - t))\n",
        "    return time()\n",
        "\n",
        "def pc_normalize(pc):\n",
        "    l = pc.shape[0]\n",
        "    centroid = np.mean(pc, axis=0)\n",
        "    pc = pc - centroid\n",
        "    m = np.max(np.sqrt(np.sum(pc**2, axis=1)))\n",
        "    pc = pc / m\n",
        "    return pc\n",
        "\n",
        "def square_distance(src, dst):\n",
        "    \"\"\"\n",
        "    Calculate Euclid distance between each two points.\n",
        "\n",
        "    src^T * dst = xn * xm + yn * ym + zn * zm；\n",
        "    sum(src^2, dim=-1) = xn*xn + yn*yn + zn*zn;\n",
        "    sum(dst^2, dim=-1) = xm*xm + ym*ym + zm*zm;\n",
        "    dist = (xn - xm)^2 + (yn - ym)^2 + (zn - zm)^2\n",
        "         = sum(src**2,dim=-1)+sum(dst**2,dim=-1)-2*src^T*dst\n",
        "\n",
        "    Input:\n",
        "        src: source points, [B, N, C]\n",
        "        dst: target points, [B, M, C]\n",
        "    Output:\n",
        "        dist: per-point square distance, [B, N, M]\n",
        "    \"\"\"\n",
        "    B, N, _ = src.shape\n",
        "    _, M, _ = dst.shape\n",
        "    dist = -2 * torch.matmul(src, dst.permute(0, 2, 1))\n",
        "    dist += torch.sum(src ** 2, -1).view(B, N, 1)\n",
        "    dist += torch.sum(dst ** 2, -1).view(B, 1, M)\n",
        "    return dist\n",
        "\n",
        "\n",
        "def index_points(points, idx):\n",
        "    \"\"\"\n",
        "\n",
        "    Input:\n",
        "        points: input points data, [B, N, C]\n",
        "        idx: sample index data, [B, S]\n",
        "    Return:\n",
        "        new_points:, indexed points data, [B, S, C]\n",
        "    \"\"\"\n",
        "    device = points.device\n",
        "    B = points.shape[0]\n",
        "    view_shape = list(idx.shape)\n",
        "    view_shape[1:] = [1] * (len(view_shape) - 1)\n",
        "    repeat_shape = list(idx.shape)\n",
        "    repeat_shape[0] = 1\n",
        "    batch_indices = torch.arange(B, dtype=torch.long).to(device).view(view_shape).repeat(repeat_shape)\n",
        "    new_points = points[batch_indices, idx, :]\n",
        "    return new_points\n",
        "\n",
        "\n",
        "def farthest_point_sample(xyz, npoint):\n",
        "    \"\"\"\n",
        "    Input:\n",
        "        xyz: pointcloud data, [B, N, 3]\n",
        "        npoint: number of samples\n",
        "    Return:\n",
        "        centroids: sampled pointcloud index, [B, npoint]\n",
        "    \"\"\"\n",
        "    device = xyz.device\n",
        "    B, N, C = xyz.shape\n",
        "    centroids = torch.zeros(B, npoint, dtype=torch.long).to(device)\n",
        "    distance = torch.ones(B, N).to(device) * 1e10\n",
        "    farthest = torch.randint(0, N, (B,), dtype=torch.long).to(device)\n",
        "    batch_indices = torch.arange(B, dtype=torch.long).to(device)\n",
        "    for i in range(npoint):\n",
        "        centroids[:, i] = farthest\n",
        "        centroid = xyz[batch_indices, farthest, :].view(B, 1, 3)\n",
        "        dist = torch.sum((xyz - centroid) ** 2, -1)\n",
        "        mask = dist < distance\n",
        "        distance[mask] = dist[mask]\n",
        "        farthest = torch.max(distance, -1)[1]\n",
        "    return centroids\n",
        "\n",
        "\n",
        "def query_ball_point(radius, nsample, xyz, new_xyz):\n",
        "    \"\"\"\n",
        "    Input:\n",
        "        radius: local region radius\n",
        "        nsample: max sample number in local region\n",
        "        xyz: all points, [B, N, 3]\n",
        "        new_xyz: query points, [B, S, 3]\n",
        "    Return:\n",
        "        group_idx: grouped points index, [B, S, nsample]\n",
        "    \"\"\"\n",
        "    device = xyz.device\n",
        "    B, N, C = xyz.shape\n",
        "    _, S, _ = new_xyz.shape\n",
        "    group_idx = torch.arange(N, dtype=torch.long).to(device).view(1, 1, N).repeat([B, S, 1])\n",
        "    sqrdists = square_distance(new_xyz, xyz)\n",
        "    group_idx[sqrdists > radius ** 2] = N\n",
        "    group_idx = group_idx.sort(dim=-1)[0][:, :, :nsample]\n",
        "    group_first = group_idx[:, :, 0].view(B, S, 1).repeat([1, 1, nsample])\n",
        "\n",
        "    mask = group_idx == N\n",
        "    group_idx[mask] = group_first[mask]\n",
        "    return group_idx\n",
        "\n",
        "\n",
        "def sample_and_group(npoint, radius, nsample, xyz, points, returnfps=False):\n",
        "    \"\"\"\n",
        "    Input:\n",
        "        npoint:\n",
        "        radius:\n",
        "        nsample:\n",
        "        xyz: input points position data, [B, N, 3]\n",
        "        points: input points data, [B, N, D]\n",
        "    Return:\n",
        "        new_xyz: sampled points position data, [B, npoint, nsample, 3]\n",
        "        new_points: sampled points data, [B, npoint, nsample, 3+D]\n",
        "    \"\"\"\n",
        "    B, N, C = xyz.shape\n",
        "    S = npoint\n",
        "    fps_idx = farthest_point_sample(xyz, npoint) # [B, npoint, C]\n",
        "    new_xyz = index_points(xyz, fps_idx)\n",
        "    idx = query_ball_point(radius, nsample, xyz, new_xyz)\n",
        "    grouped_xyz = index_points(xyz, idx) # [B, npoint, nsample, C]\n",
        "    grouped_xyz_norm = grouped_xyz - new_xyz.view(B, S, 1, C)\n",
        "\n",
        "    if points is not None:\n",
        "        grouped_points = index_points(points, idx)\n",
        "        new_points = torch.cat([grouped_xyz_norm, grouped_points], dim=-1) # [B, npoint, nsample, C+D]\n",
        "    else:\n",
        "        new_points = grouped_xyz_norm\n",
        "    if returnfps:\n",
        "        return new_xyz, new_points, grouped_xyz, fps_idx\n",
        "    else:\n",
        "        return new_xyz, new_points\n",
        "\n",
        "\n",
        "def sample_and_group_all(xyz, points):\n",
        "    \"\"\"\n",
        "    Input:\n",
        "        xyz: input points position data, [B, N, 3]\n",
        "        points: input points data, [B, N, D]\n",
        "    Return:\n",
        "        new_xyz: sampled points position data, [B, 1, 3]\n",
        "        new_points: sampled points data, [B, 1, N, 3+D]\n",
        "    \"\"\"\n",
        "    device = xyz.device\n",
        "    B, N, C = xyz.shape\n",
        "    new_xyz = torch.zeros(B, 1, C).to(device)\n",
        "    grouped_xyz = xyz.view(B, 1, N, C)\n",
        "    if points is not None:\n",
        "        new_points = torch.cat([grouped_xyz, points.view(B, 1, N, -1)], dim=-1)\n",
        "    else:\n",
        "        new_points = grouped_xyz\n",
        "    return new_xyz, new_points\n",
        "\n",
        "\n",
        "class PointNetSetAbstraction(nn.Module):\n",
        "    def __init__(self, npoint, radius, nsample, in_channel, mlp, group_all):\n",
        "        super(PointNetSetAbstraction, self).__init__()\n",
        "        self.npoint = npoint\n",
        "        self.radius = radius\n",
        "        self.nsample = nsample\n",
        "        self.mlp_convs = nn.ModuleList()\n",
        "        self.mlp_bns = nn.ModuleList()\n",
        "        last_channel = in_channel\n",
        "        for out_channel in mlp:\n",
        "            self.mlp_convs.append(nn.Conv2d(last_channel, out_channel, 1))\n",
        "            self.mlp_bns.append(nn.BatchNorm2d(out_channel))\n",
        "            last_channel = out_channel\n",
        "        self.group_all = group_all\n",
        "\n",
        "    def forward(self, xyz, points):\n",
        "        \"\"\"\n",
        "        Input:\n",
        "            xyz: input points position data, [B, C, N]\n",
        "            points: input points data, [B, D, N]\n",
        "        Return:\n",
        "            new_xyz: sampled points position data, [B, C, S]\n",
        "            new_points_concat: sample points feature data, [B, D', S]\n",
        "        \"\"\"\n",
        "        xyz = xyz.permute(0, 2, 1)\n",
        "        if points is not None:\n",
        "            points = points.permute(0, 2, 1)\n",
        "\n",
        "        if self.group_all:\n",
        "            new_xyz, new_points = sample_and_group_all(xyz, points)\n",
        "        else:\n",
        "            new_xyz, new_points = sample_and_group(self.npoint, self.radius, self.nsample, xyz, points)\n",
        "        # new_xyz: sampled points position data, [B, npoint, C]\n",
        "        # new_points: sampled points data, [B, npoint, nsample, C+D]\n",
        "        new_points = new_points.permute(0, 3, 2, 1) # [B, C+D, nsample,npoint]\n",
        "        for i, conv in enumerate(self.mlp_convs):\n",
        "            bn = self.mlp_bns[i]\n",
        "            new_points =  F.relu(bn(conv(new_points)))\n",
        "\n",
        "        new_points = torch.max(new_points, 2)[0]\n",
        "        new_xyz = new_xyz.permute(0, 2, 1)\n",
        "        return new_xyz, new_points\n",
        "\n",
        "\n",
        "class PointNetSetAbstractionMsg(nn.Module):\n",
        "    def __init__(self, npoint, radius_list, nsample_list, in_channel, mlp_list):\n",
        "        super(PointNetSetAbstractionMsg, self).__init__()\n",
        "        self.npoint = npoint\n",
        "        self.radius_list = radius_list\n",
        "        self.nsample_list = nsample_list\n",
        "        self.conv_blocks = nn.ModuleList()\n",
        "        self.bn_blocks = nn.ModuleList()\n",
        "        for i in range(len(mlp_list)):\n",
        "            convs = nn.ModuleList()\n",
        "            bns = nn.ModuleList()\n",
        "            last_channel = in_channel + 3\n",
        "            for out_channel in mlp_list[i]:\n",
        "                convs.append(nn.Conv2d(last_channel, out_channel, 1))\n",
        "                bns.append(nn.BatchNorm2d(out_channel))\n",
        "                last_channel = out_channel\n",
        "            self.conv_blocks.append(convs)\n",
        "            self.bn_blocks.append(bns)\n",
        "\n",
        "    def forward(self, xyz, points):\n",
        "        \"\"\"\n",
        "        Input:\n",
        "            xyz: input points position data, [B, C, N]\n",
        "            points: input points data, [B, D, N]\n",
        "        Return:\n",
        "            new_xyz: sampled points position data, [B, C, S]\n",
        "            new_points_concat: sample points feature data, [B, D', S]\n",
        "        \"\"\"\n",
        "        xyz = xyz.permute(0, 2, 1)\n",
        "        if points is not None:\n",
        "            points = points.permute(0, 2, 1)\n",
        "\n",
        "        B, N, C = xyz.shape\n",
        "        S = self.npoint\n",
        "        new_xyz = index_points(xyz, farthest_point_sample(xyz, S))\n",
        "        new_points_list = []\n",
        "        for i, radius in enumerate(self.radius_list):\n",
        "            K = self.nsample_list[i]\n",
        "            group_idx = query_ball_point(radius, K, xyz, new_xyz)\n",
        "            grouped_xyz = index_points(xyz, group_idx)\n",
        "            grouped_xyz -= new_xyz.view(B, S, 1, C)\n",
        "            if points is not None:\n",
        "                grouped_points = index_points(points, group_idx)\n",
        "                grouped_points = torch.cat([grouped_points, grouped_xyz], dim=-1)\n",
        "            else:\n",
        "                grouped_points = grouped_xyz\n",
        "\n",
        "            grouped_points = grouped_points.permute(0, 3, 2, 1)  # [B, D, K, S]\n",
        "            for j in range(len(self.conv_blocks[i])):\n",
        "                conv = self.conv_blocks[i][j]\n",
        "                bn = self.bn_blocks[i][j]\n",
        "                grouped_points =  F.relu(bn(conv(grouped_points)))\n",
        "            new_points = torch.max(grouped_points, 2)[0]  # [B, D', S]\n",
        "            new_points_list.append(new_points)\n",
        "\n",
        "        new_xyz = new_xyz.permute(0, 2, 1)\n",
        "        new_points_concat = torch.cat(new_points_list, dim=1)\n",
        "        return new_xyz, new_points_concat\n",
        "\n",
        "\n",
        "class PointNetFeaturePropagation(nn.Module):\n",
        "    def __init__(self, in_channel, mlp):\n",
        "        super(PointNetFeaturePropagation, self).__init__()\n",
        "        self.mlp_convs = nn.ModuleList()\n",
        "        self.mlp_bns = nn.ModuleList()\n",
        "        last_channel = in_channel\n",
        "        for out_channel in mlp:\n",
        "            self.mlp_convs.append(nn.Conv1d(last_channel, out_channel, 1))\n",
        "            self.mlp_bns.append(nn.BatchNorm1d(out_channel))\n",
        "            last_channel = out_channel\n",
        "\n",
        "    def forward(self, xyz1, xyz2, points1, points2):\n",
        "        \"\"\"\n",
        "        Input:\n",
        "            xyz1: input points position data, [B, C, N]\n",
        "            xyz2: sampled input points position data, [B, C, S]\n",
        "            points1: input points data, [B, D, N]\n",
        "            points2: input points data, [B, D, S]\n",
        "        Return:\n",
        "            new_points: upsampled points data, [B, D', N]\n",
        "        \"\"\"\n",
        "        xyz1 = xyz1.permute(0, 2, 1)\n",
        "        xyz2 = xyz2.permute(0, 2, 1)\n",
        "\n",
        "        points2 = points2.permute(0, 2, 1)\n",
        "        B, N, C = xyz1.shape\n",
        "        _, S, _ = xyz2.shape\n",
        "\n",
        "        if S == 1:\n",
        "            interpolated_points = points2.repeat(1, N, 1)\n",
        "        else:\n",
        "            dists = square_distance(xyz1, xyz2)\n",
        "            dists, idx = dists.sort(dim=-1)\n",
        "            dists, idx = dists[:, :, :3], idx[:, :, :3]  # [B, N, 3]\n",
        "\n",
        "            dist_recip = 1.0 / (dists + 1e-8)\n",
        "            norm = torch.sum(dist_recip, dim=2, keepdim=True)\n",
        "            weight = dist_recip / norm\n",
        "            interpolated_points = torch.sum(index_points(points2, idx) * weight.view(B, N, 3, 1), dim=2)\n",
        "\n",
        "        if points1 is not None:\n",
        "            points1 = points1.permute(0, 2, 1)\n",
        "            new_points = torch.cat([points1, interpolated_points], dim=-1)\n",
        "        else:\n",
        "            new_points = interpolated_points\n",
        "\n",
        "        new_points = new_points.permute(0, 2, 1)\n",
        "        for i, conv in enumerate(self.mlp_convs):\n",
        "            bn = self.mlp_bns[i]\n",
        "            new_points = F.relu(bn(conv(new_points)))\n",
        "        return new_points"
      ],
      "metadata": {
        "id": "ICeq_sGIbG-K"
      },
      "execution_count": null,
      "outputs": []
    },
    {
      "cell_type": "code",
      "source": [
        "class get_model(nn.Module):\n",
        "    def __init__(self,num_class,normal_channel=False):\n",
        "        super(get_model, self).__init__()\n",
        "        in_channel = 6 if normal_channel else 3\n",
        "        self.normal_channel = normal_channel\n",
        "        self.sa1 = PointNetSetAbstraction(npoint=512, radius=0.2, nsample=32, in_channel=in_channel, mlp=[64, 64, 128], group_all=False)\n",
        "        self.sa2 = PointNetSetAbstraction(npoint=128, radius=0.4, nsample=64, in_channel=128 + 3, mlp=[128, 128, 256], group_all=False)\n",
        "        self.sa3 = PointNetSetAbstraction(npoint=None, radius=None, nsample=None, in_channel=256 + 3, mlp=[256, 512, 1024], group_all=True)\n",
        "        self.fc1 = nn.Linear(1024, 512)\n",
        "        self.bn1 = nn.BatchNorm1d(512)\n",
        "        self.drop1 = nn.Dropout(0.4)\n",
        "        self.fc2 = nn.Linear(512, 256)\n",
        "        self.bn2 = nn.BatchNorm1d(256)\n",
        "        self.drop2 = nn.Dropout(0.4)\n",
        "        self.fc3 = nn.Linear(256, num_class)\n",
        "\n",
        "    def forward(self, xyz):\n",
        "        B, _, _ = xyz.shape\n",
        "        if self.normal_channel:\n",
        "            norm = xyz[:, 3:, :]\n",
        "            xyz = xyz[:, :3, :]\n",
        "        else:\n",
        "            norm = None\n",
        "        l1_xyz, l1_points = self.sa1(xyz, norm)\n",
        "        l2_xyz, l2_points = self.sa2(l1_xyz, l1_points)\n",
        "        l3_xyz, l3_points = self.sa3(l2_xyz, l2_points)\n",
        "        x = l3_points.view(B, 1024)\n",
        "        x = self.drop1(F.relu(self.bn1(self.fc1(x))))\n",
        "        x = self.drop2(F.relu(self.bn2(self.fc2(x))))\n",
        "        x = self.fc3(x)\n",
        "        x = F.log_softmax(x, -1)\n",
        "\n",
        "\n",
        "        return x, l3_points\n",
        "\n",
        "\n",
        "\n",
        "class get_loss(nn.Module):\n",
        "    def __init__(self):\n",
        "        super(get_loss, self).__init__()\n",
        "\n",
        "    def forward(self, pred, target):\n",
        "        total_loss = F.nll_loss(pred, target)\n",
        "\n",
        "        return total_loss"
      ],
      "metadata": {
        "id": "DfSw2N_1bKKx"
      },
      "execution_count": null,
      "outputs": []
    },
    {
      "cell_type": "code",
      "source": [
        "\n",
        "from torch.utils.data import DataLoader, TensorDataset\n"
      ],
      "metadata": {
        "id": "VXwFbEqEbMOy"
      },
      "execution_count": null,
      "outputs": []
    },
    {
      "cell_type": "code",
      "source": [
        "train_labels.shape"
      ],
      "metadata": {
        "colab": {
          "base_uri": "https://localhost:8080/"
        },
        "id": "1IwFHb0QbN-v",
        "outputId": "82391af2-86d3-4ba1-de8a-e1c60aaca005"
      },
      "execution_count": null,
      "outputs": [
        {
          "output_type": "execute_result",
          "data": {
            "text/plain": [
              "(364,)"
            ]
          },
          "metadata": {},
          "execution_count": 11
        }
      ]
    },
    {
      "cell_type": "code",
      "source": [
        "\n",
        "import numpy as np\n",
        "\n",
        "# Assuming your data is in a variable called 'data'\n",
        "# Reshape data and labels\n",
        "train_points = np.transpose(data_train, (0, 2, 1))\n",
        "data_val = np.transpose(data_val, (0, 2, 1))\n",
        "data_val = torch.Tensor(data_val)\n",
        "labels_val = torch.LongTensor(labels_val)\n"
      ],
      "metadata": {
        "id": "dq2vkYKIbPwC"
      },
      "execution_count": null,
      "outputs": []
    },
    {
      "cell_type": "code",
      "source": [
        "# Convert NumPy arrays to PyTorch tensors\n",
        "data = torch.Tensor(train_points)\n",
        "labels = torch.LongTensor(labels_train)\n",
        "\n",
        "# Create a TensorDataset to hold your data and labels\n",
        "dataset = TensorDataset(data, labels)\n",
        "\n",
        "# Define batch size\n",
        "batch_size = 32\n",
        "\n",
        "# Create a DataLoader\n",
        "dataloader = DataLoader(dataset, batch_size=batch_size, shuffle=True)\n",
        "val_dataset = TensorDataset(torch.Tensor(data_val), torch.LongTensor(labels_val))\n",
        "val_dataloader = DataLoader(val_dataset, batch_size=batch_size, shuffle=True)\n"
      ],
      "metadata": {
        "id": "vahGoHCZbTYb"
      },
      "execution_count": null,
      "outputs": []
    },
    {
      "cell_type": "code",
      "source": [],
      "metadata": {
        "id": "BwBiFuYxGwhE"
      },
      "execution_count": null,
      "outputs": []
    },
    {
      "cell_type": "code",
      "source": [
        "train_points.shape"
      ],
      "metadata": {
        "colab": {
          "base_uri": "https://localhost:8080/"
        },
        "id": "-mSper_PG0DL",
        "outputId": "ae70d9aa-8d0a-4b79-9318-b4f1487bf6a9"
      },
      "execution_count": null,
      "outputs": [
        {
          "output_type": "execute_result",
          "data": {
            "text/plain": [
              "(291, 3, 150)"
            ]
          },
          "metadata": {},
          "execution_count": 14
        }
      ]
    },
    {
      "cell_type": "code",
      "source": [
        "from sklearn.metrics import accuracy_score"
      ],
      "metadata": {
        "id": "YblpO8GByz4m"
      },
      "execution_count": null,
      "outputs": []
    },
    {
      "cell_type": "code",
      "source": [
        "def calculate_accuracy(model, data_loader):\n",
        "    model.eval()\n",
        "    all_preds = []\n",
        "    all_labels = []\n",
        "\n",
        "    with torch.no_grad():\n",
        "        for batch_data, batch_labels in data_loader:\n",
        "            output, _ = model(batch_data)\n",
        "            preds = output.argmax(dim=1)\n",
        "            all_preds.extend(preds.cpu().numpy())\n",
        "            all_labels.extend(batch_labels.cpu().numpy())\n",
        "\n",
        "    accuracy = accuracy_score(all_labels, all_preds)\n",
        "    return accuracy\n"
      ],
      "metadata": {
        "id": "DLH_T-sTy0gw"
      },
      "execution_count": null,
      "outputs": []
    },
    {
      "cell_type": "code",
      "source": [
        "scheduler = torch.optim.lr_scheduler.StepLR(optimizer, step_size=5, gamma=0.5)"
      ],
      "metadata": {
        "id": "Y8MpsEb3y3UU"
      },
      "execution_count": null,
      "outputs": []
    },
    {
      "cell_type": "code",
      "source": [
        "# # Initialize your model and loss function\n",
        "model = get_model(num_class=4)\n",
        "loss_fn = get_loss()\n",
        "optimizer = torch.optim.Adam(model.parameters(), lr=0.001)\n",
        "num_epochs = 20  # Increase the number of epochs\n",
        "best_accuracy = 0.0\n",
        "\n",
        "for epoch in range(num_epochs):\n",
        "    # Training loop\n",
        "    total_loss = 0.0\n",
        "    model.train()\n",
        "    for batch_data, batch_labels in dataloader:\n",
        "        optimizer.zero_grad()\n",
        "        output, _ = model(batch_data)\n",
        "        loss = loss_fn(output, batch_labels)\n",
        "        loss.backward()\n",
        "        optimizer.step()\n",
        "        total_loss += loss.item()\n",
        "\n",
        "    print(f\"Epoch {epoch + 1}, Training Loss: {total_loss / len(dataloader)}\")\n",
        "\n",
        "    # Validation loop\n",
        "    total_val_loss = 0.0\n",
        "    model.eval()\n",
        "    all_preds = []\n",
        "    all_labels = []\n",
        "    with torch.no_grad():\n",
        "        for batch_data, batch_labels in val_dataloader:\n",
        "            output, _ = model(batch_data)\n",
        "            val_loss = loss_fn(output, batch_labels)\n",
        "            total_val_loss += val_loss.item()\n",
        "\n",
        "            preds = output.argmax(dim=1).cpu().numpy()\n",
        "            labels = batch_labels.cpu().numpy()\n",
        "            all_preds.extend(preds)\n",
        "            all_labels.extend(labels)\n",
        "\n",
        "    accuracy = accuracy_score(all_labels, all_preds)\n",
        "    print(f\"Epoch {epoch + 1}, Validation Loss: {total_val_loss / len(val_dataloader)}, Accuracy: {accuracy}\")\n",
        "\n",
        "    # Update the learning rate using the scheduler\n",
        "    scheduler.step()\n",
        "\n",
        "    # Save the model with the best validation accuracy\n",
        "    if accuracy > best_accuracy:\n",
        "        best_accuracy = accuracy\n",
        "        torch.save(model.state_dict(), 'best_model.pth')\n",
        "\n",
        "print(\"Training complete\")\n"
      ],
      "metadata": {
        "colab": {
          "base_uri": "https://localhost:8080/"
        },
        "id": "t8RUwqnCcCFG",
        "outputId": "fe5d559b-febd-40eb-b900-f4107849f257"
      },
      "execution_count": null,
      "outputs": [
        {
          "output_type": "stream",
          "name": "stdout",
          "text": [
            "Epoch 1, Training Loss: 0.7790171474218368\n",
            "Epoch 1, Validation Loss: 1.2601314981778462, Accuracy: 0.6164383561643836\n",
            "Epoch 2, Training Loss: 0.3735837161540985\n",
            "Epoch 2, Validation Loss: 2.2402714093526206, Accuracy: 0.6164383561643836\n",
            "Epoch 3, Training Loss: 0.34875286668539046\n",
            "Epoch 3, Validation Loss: 2.583195765813192, Accuracy: 0.6164383561643836\n",
            "Epoch 4, Training Loss: 0.23896290510892867\n",
            "Epoch 4, Validation Loss: 2.6638132333755493, Accuracy: 0.6164383561643836\n",
            "Epoch 5, Training Loss: 0.2611801691353321\n",
            "Epoch 5, Validation Loss: 2.483221928278605, Accuracy: 0.6164383561643836\n",
            "Epoch 6, Training Loss: 0.24289973750710486\n",
            "Epoch 6, Validation Loss: 1.7225550413131714, Accuracy: 0.6164383561643836\n",
            "Epoch 7, Training Loss: 0.15136981159448623\n",
            "Epoch 7, Validation Loss: 1.0305904150009155, Accuracy: 0.6301369863013698\n",
            "Epoch 8, Training Loss: 0.11441920250654221\n",
            "Epoch 8, Validation Loss: 0.5381400684515635, Accuracy: 0.821917808219178\n",
            "Epoch 9, Training Loss: 0.15708277747035027\n",
            "Epoch 9, Validation Loss: 0.40050294001897174, Accuracy: 0.8767123287671232\n",
            "Epoch 10, Training Loss: 0.15517832785844804\n",
            "Epoch 10, Validation Loss: 0.39364837606747943, Accuracy: 0.8767123287671232\n",
            "Epoch 11, Training Loss: 0.06159489043056965\n",
            "Epoch 11, Validation Loss: 0.6349083284536997, Accuracy: 0.821917808219178\n",
            "Epoch 12, Training Loss: 0.05532503612339497\n",
            "Epoch 12, Validation Loss: 0.47231878340244293, Accuracy: 0.8904109589041096\n",
            "Epoch 13, Training Loss: 0.1339335260912776\n",
            "Epoch 13, Validation Loss: 0.44626014431317645, Accuracy: 0.8904109589041096\n",
            "Epoch 14, Training Loss: 0.09305815640836954\n",
            "Epoch 14, Validation Loss: 1.1685863931973774, Accuracy: 0.6986301369863014\n",
            "Epoch 15, Training Loss: 0.08512999787926674\n",
            "Epoch 15, Validation Loss: 0.5816886971394221, Accuracy: 0.8082191780821918\n",
            "Epoch 16, Training Loss: 0.14316862672567368\n",
            "Epoch 16, Validation Loss: 0.446089247862498, Accuracy: 0.8767123287671232\n",
            "Epoch 17, Training Loss: 0.09914605114609003\n",
            "Epoch 17, Validation Loss: 0.6729027728239695, Accuracy: 0.821917808219178\n",
            "Epoch 18, Training Loss: 0.16978870341554284\n",
            "Epoch 18, Validation Loss: 0.5686615705490112, Accuracy: 0.863013698630137\n",
            "Epoch 19, Training Loss: 0.11783475130796432\n",
            "Epoch 19, Validation Loss: 0.570830374956131, Accuracy: 0.8356164383561644\n",
            "Epoch 20, Training Loss: 0.6091675838455558\n",
            "Epoch 20, Validation Loss: 0.7435763577620188, Accuracy: 0.7945205479452054\n",
            "Training complete\n"
          ]
        }
      ]
    },
    {
      "cell_type": "code",
      "source": [
        "model = get_model(num_class=4)\n",
        "model.load_state_dict(torch.load('best_model.pth'))"
      ],
      "metadata": {
        "id": "pdO2vGcecJnZ",
        "colab": {
          "base_uri": "https://localhost:8080/"
        },
        "outputId": "ee6abca8-311c-42b9-d319-6ff3cdab4251"
      },
      "execution_count": null,
      "outputs": [
        {
          "output_type": "execute_result",
          "data": {
            "text/plain": [
              "<All keys matched successfully>"
            ]
          },
          "metadata": {},
          "execution_count": 39
        }
      ]
    },
    {
      "cell_type": "markdown",
      "source": [
        "TEST:"
      ],
      "metadata": {
        "id": "MNLJFgydwX-e"
      }
    },
    {
      "cell_type": "code",
      "source": [
        "model.eval()\n",
        "test_points = []\n",
        "test_labels = []\n",
        "class_maps = {}\n",
        "folder_path = \"/content/drive/MyDrive/test\"\n",
        "folders = glob.glob(folder_path + \"/*\")\n",
        "\n",
        "for i, folder in enumerate(folders):\n",
        "    print(\"processing class: {}\".format(os.path.basename(folder)))\n",
        "    # store folder name with ID so we can retrieve later\n",
        "    class_maps[i] = folder.split(\"/\")[-1]\n",
        "    # gather all files\n",
        "\n",
        "    test_files = glob.glob(os.path.join(folder_path,folder)+\"/*\")\n",
        "\n",
        "    for f in test_files:\n",
        "\n",
        "\n",
        "        # Use the random indices to select 200 random rows from the original array\n",
        "        test_points.append(pd.read_csv(f).set_index('Unnamed: 0').sample(120).values)\n",
        "        test_labels.append(i)"
      ],
      "metadata": {
        "colab": {
          "base_uri": "https://localhost:8080/"
        },
        "id": "7J6doSjehzmb",
        "outputId": "d7d57a94-ddb0-4ec0-b5d2-592e2889a9e1"
      },
      "execution_count": null,
      "outputs": [
        {
          "output_type": "stream",
          "name": "stdout",
          "text": [
            "processing class: sitting\n",
            "processing class: standing\n",
            "processing class: falling\n",
            "processing class: lying_down\n"
          ]
        }
      ]
    },
    {
      "cell_type": "code",
      "source": [
        "test_points=np.array(test_points)\n",
        "test_labels=np.array(test_labels)"
      ],
      "metadata": {
        "id": "iHhKFY8ok0dp"
      },
      "execution_count": null,
      "outputs": []
    },
    {
      "cell_type": "code",
      "source": [
        "test_points = np.transpose(test_points, (0, 2, 1))"
      ],
      "metadata": {
        "id": "mYiX2PmttHkJ"
      },
      "execution_count": null,
      "outputs": []
    },
    {
      "cell_type": "code",
      "source": [
        "data_test = torch.Tensor(test_points)\n",
        "labels_test = torch.LongTensor(test_labels)\n",
        "\n",
        "# Create a TensorDataset to hold your data and labels\n",
        "dataset_test = TensorDataset(data_test, labels_test)\n",
        "\n",
        "# Define batch size\n",
        "batch_size = 32\n",
        "\n",
        "# Create a DataLoader\n",
        "dataloader_test = DataLoader(dataset_test, batch_size=batch_size, shuffle=True)"
      ],
      "metadata": {
        "id": "PgcTXHZguAwY"
      },
      "execution_count": null,
      "outputs": []
    },
    {
      "cell_type": "code",
      "source": [
        "tot_test_loss = 0.0\n",
        "preds = []\n",
        "labs = []\n",
        "\n",
        "with torch.no_grad():\n",
        "    for batch_data, batch_labels in dataloader_test:\n",
        "        output, _ = model(batch_data)\n",
        "        test_loss = loss_fn(output, batch_labels)\n",
        "        tot_test_loss += test_loss.item()\n",
        "\n",
        "        pred = output.argmax(dim=1).cpu().numpy()\n",
        "        label = batch_labels.cpu().numpy()\n",
        "        preds.extend(pred)\n",
        "        labs.extend(label)\n",
        "\n",
        "accuracys = accuracy_score(labs, preds)\n",
        "print(f\" Validation Loss: {tot_test_loss / len(dataloader_test)}, Accuracy: {accuracys}\")\n"
      ],
      "metadata": {
        "colab": {
          "base_uri": "https://localhost:8080/"
        },
        "id": "S_rPb9fRuoRG",
        "outputId": "e5422e59-0676-46c1-88ec-ca45cbc8966e"
      },
      "execution_count": null,
      "outputs": [
        {
          "output_type": "stream",
          "name": "stdout",
          "text": [
            " Validation Loss: 3.99638831615448, Accuracy: 0.2037037037037037\n"
          ]
        }
      ]
    },
    {
      "cell_type": "code",
      "source": [],
      "metadata": {
        "id": "BpcFyAlhvNIs"
      },
      "execution_count": null,
      "outputs": []
    }
  ]
}